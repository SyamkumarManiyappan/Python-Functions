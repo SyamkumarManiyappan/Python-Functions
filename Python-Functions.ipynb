{
 "cells": [
  {
   "cell_type": "markdown",
   "id": "25ace02f-6c63-4282-a640-598f1a1a036d",
   "metadata": {},
   "source": [
    "# Python-Functions\n",
    "\n",
    "# What does the len() function do in Python?\n",
    "# The len() function in Python is used to quickly determine the length or the number of items in a collection, such as\n",
    "# a string, list, tuple, dictionary, or any other iterable object.\n",
    "\n",
    "\n",
    "# Write a code example using len() to find the length of a list."
   ]
  },
  {
   "cell_type": "code",
   "execution_count": 1,
   "id": "4e66d06d-27eb-48ba-ac6c-ad9e4f58287b",
   "metadata": {},
   "outputs": [
    {
     "name": "stdout",
     "output_type": "stream",
     "text": [
      "The length of the list is: 5\n"
     ]
    }
   ],
   "source": [
    "m_list = [1, 2, 3, 4, 5]\n",
    "list_length = len(m_list)\n",
    "print(\"The length of the list is:\", list_length)"
   ]
  },
  {
   "cell_type": "markdown",
   "id": "5852c6b7-2054-4a80-bfbb-302e7e8bacee",
   "metadata": {},
   "source": [
    "# Write a Python function greet(name) that takes a person's name as input and prints \"Hello, [name]!\"."
   ]
  },
  {
   "cell_type": "code",
   "execution_count": 2,
   "id": "0baf3491-5fdd-464b-92ef-d8f19eaa1c8c",
   "metadata": {},
   "outputs": [
    {
     "name": "stdin",
     "output_type": "stream",
     "text": [
      "Enter the person's name:  manu\n"
     ]
    },
    {
     "name": "stdout",
     "output_type": "stream",
     "text": [
      "Hello, manu!\n"
     ]
    }
   ],
   "source": [
    "def greet(name):\n",
    "    print(f\"Hello, {name}!\")\n",
    "name = input(\"Enter the person's name: \")\n",
    "greet(name)"
   ]
  },
  {
   "cell_type": "markdown",
   "id": "6ca9cfc4-2b82-4189-aac8-b5e7026616c2",
   "metadata": {},
   "source": [
    "# Write a Python function find_maximum(numbers) that takes a list of integers and returns the maximum value without\n",
    "# using the built-in max() function. Use a loop to iterate through the list and compare values."
   ]
  },
  {
   "cell_type": "code",
   "execution_count": 6,
   "id": "bad7e5d1-4261-443b-a45c-4452d4135f8a",
   "metadata": {},
   "outputs": [
    {
     "name": "stdin",
     "output_type": "stream",
     "text": [
      "Enter the list of numbers:  12 15 20\n"
     ]
    },
    {
     "name": "stdout",
     "output_type": "stream",
     "text": [
      "The maximum number is 20\n"
     ]
    }
   ],
   "source": [
    "def find_maximum(numbers):\n",
    "    maximum = numbers[0]\n",
    "    for num in numbers:\n",
    "        if num > maximum:\n",
    "            maximum = num\n",
    "    return maximum\n",
    "numbers = input(\"Enter the list of numbers: \")\n",
    "numbers = list(map(int, numbers.split()))\n",
    "print(\"The maximum number is\", find_maximum(numbers))"
   ]
  },
  {
   "cell_type": "markdown",
   "id": "4ba5ab14-2775-41db-9774-f30afca7d84b",
   "metadata": {},
   "source": [
    "# Explain the difference between local and global variables in a Python function.\n",
    "# 1.Local variables are only accessible within the function they are defined in whereas Global variables are accessible\n",
    "# from anywhere in the code.\n",
    "# 2.Local variables exist only for the duration of the function execution whereas Global variables exist for the\n",
    "# lifetime of the program.\n",
    "# 3.Local variables are declared within functions whereas Global variables are declared outside of functions."
   ]
  },
  {
   "cell_type": "markdown",
   "id": "c19e8c14-e709-498b-b39a-9ebf8de0baec",
   "metadata": {},
   "source": [
    "# Write a program where a global variable and a local variable have the same name and show how Python differentiates\n",
    "# between them."
   ]
  },
  {
   "cell_type": "code",
   "execution_count": 7,
   "id": "f595d386-09c8-49a1-8827-1b56e5634172",
   "metadata": {},
   "outputs": [
    {
     "name": "stdout",
     "output_type": "stream",
     "text": [
      "Inside the function, local value: 5\n",
      "Outside the function, global value: 10\n"
     ]
    }
   ],
   "source": [
    "value = 10\n",
    "def v_function():\n",
    "    value = 5\n",
    "    print(\"Inside the function, local value:\", value)\n",
    "v_function()\n",
    "print(\"Outside the function, global value:\", value)"
   ]
  },
  {
   "cell_type": "markdown",
   "id": "05d34753-fb1d-40c5-a529-f52856bcf3e6",
   "metadata": {},
   "source": [
    "# Create a function calculate_area(length, width=5) that calculates the area of a rectangle. If only the length is\n",
    "# provided, the function should assume the width is 5. Show how the function behaves when called with and without the\n",
    "# width argument."
   ]
  },
  {
   "cell_type": "code",
   "execution_count": 8,
   "id": "a46e8265-4449-4087-8d9c-a3ceb36cc14e",
   "metadata": {},
   "outputs": [
    {
     "name": "stdin",
     "output_type": "stream",
     "text": [
      "Enter the length of the rectangle:  15\n",
      "Enter the width of the rectangle (press Enter to use default of 5):  5\n"
     ]
    },
    {
     "name": "stdout",
     "output_type": "stream",
     "text": [
      "The area of the rectangle is: 75.0\n"
     ]
    }
   ],
   "source": [
    "def calculate_area(length, width=5):\n",
    "    area = length * width\n",
    "    return area\n",
    "length = float(input(\"Enter the length of the rectangle: \"))\n",
    "custom_width = input(\"Enter the width of the rectangle (press Enter to use default of 5): \")\n",
    "\n",
    "if custom_width:\n",
    "    width = float(custom_width)\n",
    "else:\n",
    "    width = 5\n",
    "area = calculate_area(length, width)\n",
    "print(f\"The area of the rectangle is: {area}\")"
   ]
  },
  {
   "cell_type": "code",
   "execution_count": null,
   "id": "395d1845-e1c6-4878-ba3b-50b0417f4969",
   "metadata": {},
   "outputs": [],
   "source": []
  }
 ],
 "metadata": {
  "kernelspec": {
   "display_name": "Python 3 (ipykernel)",
   "language": "python",
   "name": "python3"
  },
  "language_info": {
   "codemirror_mode": {
    "name": "ipython",
    "version": 3
   },
   "file_extension": ".py",
   "mimetype": "text/x-python",
   "name": "python",
   "nbconvert_exporter": "python",
   "pygments_lexer": "ipython3",
   "version": "3.12.7"
  }
 },
 "nbformat": 4,
 "nbformat_minor": 5
}
